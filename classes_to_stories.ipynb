{
 "cells": [
  {
   "cell_type": "code",
   "execution_count": null,
   "metadata": {},
   "outputs": [],
   "source": [
    "import json\n",
    "\n",
    "with open(\"json_data/classes_to_stories.json\") as f:\n",
    "    classes_to_stories = json.load(f)\n",
    "\n",
    "batch_requests = []\n",
    "\n",
    "for id, body in classes_to_stories.items():\n",
    "    batch_requests.append({\n",
    "        \"custom_id\": id,\n",
    "        \"method\": \"POST\",\n",
    "        \"url\": \"/v1/chat/completions\",\n",
    "        \"body\": {\n",
    "            \"model\": \"gpt-4o-mini-2024-07-18\",\n",
    "            \"messages\": [\n",
    "                {\n",
    "                    \"role\": \"system\", \n",
    "                    \"content\": f\"You are a very objective assistant.\"},\n",
    "                {\n",
    "                    \"role\": \"user\",\n",
    "                    \"content\": body[\"prompt\"]\n",
    "                }\n",
    "            ],\n",
    "            \"max_tokens\": 300,\n",
    "            \"temperature\": 0.7\n",
    "        }\n",
    "    })\n",
    "\n",
    "with open(\"json_data/batch_requests_class_to_story.jsonl\", \"w\") as f:\n",
    "    for obj in batch_requests:\n",
    "        f.write(json.dumps(obj) + '\\n')"
   ]
  },
  {
   "cell_type": "code",
   "execution_count": 24,
   "metadata": {},
   "outputs": [
    {
     "name": "stdout",
     "output_type": "stream",
     "text": [
      "Batch(id='batch_676301f72f908190bcba5aa141167aaf', completion_window='24h', created_at=1734541815, endpoint='/v1/chat/completions', input_file_id='file-HAX1vFio5e9ADQeGnHHjeE', object='batch', status='validating', cancelled_at=None, cancelling_at=None, completed_at=None, error_file_id=None, errors=None, expired_at=None, expires_at=1734628215, failed_at=None, finalizing_at=None, in_progress_at=None, metadata={'description': 'story from class batch'}, output_file_id=None, request_counts=BatchRequestCounts(completed=0, failed=0, total=0))\n"
     ]
    }
   ],
   "source": [
    "from openai import OpenAI\n",
    "import os\n",
    "from dotenv import load_dotenv\n",
    "\n",
    "load_dotenv()\n",
    "OpenAI.api_key = os.getenv(\"OPENAI_API_KEY\")\n",
    "\n",
    "client = OpenAI()\n",
    "\n",
    "batch_input_file = client.files.create(\n",
    "    file=open(\"json_data/batch_requests_class_to_story.jsonl\", \"rb\"),\n",
    "    purpose=\"batch\"\n",
    ")\n",
    "\n",
    "batch_input_file_id = batch_input_file.id\n",
    "\n",
    "job_info = client.batches.create(\n",
    "  input_file_id=batch_input_file_id,\n",
    "  endpoint=\"/v1/chat/completions\",\n",
    "  completion_window=\"24h\",\n",
    "  metadata={\n",
    "    \"description\": \"story from class batch\"\n",
    "  }\n",
    ")\n",
    "\n",
    "print(job_info)"
   ]
  },
  {
   "cell_type": "code",
   "execution_count": 31,
   "metadata": {},
   "outputs": [
    {
     "name": "stdout",
     "output_type": "stream",
     "text": [
      "Job Status: completed\n"
     ]
    }
   ],
   "source": [
    "# copy from above\n",
    "BATCH_ID = \"batch_676301f72f908190bcba5aa141167aaf\"\n",
    "\n",
    "from openai import OpenAI\n",
    "client = OpenAI()\n",
    "\n",
    "print(\"Job Status:\", client.batches.retrieve(BATCH_ID).status)"
   ]
  },
  {
   "cell_type": "code",
   "execution_count": 30,
   "metadata": {},
   "outputs": [
    {
     "name": "stdout",
     "output_type": "stream",
     "text": [
      "-0.4404\n"
     ]
    },
    {
     "name": "stderr",
     "output_type": "stream",
     "text": [
      "[nltk_data] Downloading package vader_lexicon to\n",
      "[nltk_data]     C:\\Users\\johns\\AppData\\Roaming\\nltk_data...\n",
      "[nltk_data]   Package vader_lexicon is already up-to-date!\n",
      "[nltk_data] Downloading package punkt_tab to\n",
      "[nltk_data]     C:\\Users\\johns\\AppData\\Roaming\\nltk_data...\n",
      "[nltk_data]   Package punkt_tab is already up-to-date!\n"
     ]
    }
   ],
   "source": [
    "import nltk\n",
    "from nltk.sentiment.vader import SentimentIntensityAnalyzer\n",
    "\n",
    "nltk.download('vader_lexicon')\n",
    "nltk.download('punkt_tab')\n",
    "\n",
    "# negative is more negative, positive is more positive\n",
    "def sentiment_analyzer(text):\n",
    "    sid = SentimentIntensityAnalyzer()\n",
    "    scores = []\n",
    "    for sentence in nltk.sent_tokenize(text):\n",
    "        scores.append(sid.polarity_scores(sentence)['compound'])\n",
    "    return sum(scores) / len(scores)\n",
    "\n",
    "print(sentiment_analyzer(\"She hates him.\"))"
   ]
  },
  {
   "cell_type": "code",
   "execution_count": 34,
   "metadata": {},
   "outputs": [],
   "source": [
    "from openai import OpenAI\n",
    "import json\n",
    "\n",
    "client = OpenAI()\n",
    "\n",
    "prompts = {}\n",
    "with open(\"json_data/classes_to_stories.json\", \"r\") as f:\n",
    "    prompts = json.load(f)\n",
    "\n",
    "file_response = client.files.content(client.batches.retrieve(BATCH_ID).output_file_id)\n",
    "\n",
    "for line in file_response.text.split('\\n'):\n",
    "    if line:\n",
    "        response = json.loads(line)\n",
    "        req_id = response[\"custom_id\"]\n",
    "        prompts[req_id][\"response\"] = response[\"response\"][\"body\"][\"choices\"][0][\"message\"][\"content\"]\n",
    "        prompts[req_id][\"sentiment\"] = sentiment_analyzer(prompts[req_id][\"response\"])\n",
    "\n",
    "with open(\"json_data/classes_to_stories.json\", \"w\") as f:\n",
    "    json.dump(prompts, f, indent=4)"
   ]
  }
 ],
 "metadata": {
  "kernelspec": {
   "display_name": "Python 3",
   "language": "python",
   "name": "python3"
  },
  "language_info": {
   "codemirror_mode": {
    "name": "ipython",
    "version": 3
   },
   "file_extension": ".py",
   "mimetype": "text/x-python",
   "name": "python",
   "nbconvert_exporter": "python",
   "pygments_lexer": "ipython3",
   "version": "3.10.11"
  }
 },
 "nbformat": 4,
 "nbformat_minor": 2
}
