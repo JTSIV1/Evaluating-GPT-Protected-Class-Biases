{
 "cells": [
  {
   "cell_type": "code",
   "execution_count": 2,
   "metadata": {},
   "outputs": [],
   "source": [
    "protected_classes_map = {\n",
    "    \"race/color\": [\"White\", \"Black_or_African_American\", \"Asian\", \"Native_American\", \"Pacific_Islander\", \"Mixed_Race\"],\n",
    "    \"religion\": [\"Christianity\", \"Islam\", \"Judaism\", \"Hinduism\", \"Buddhism\", \"Atheism\"],\n",
    "    \"sex/gender_identity\": [\"Male\", \"Female\", \"Non-binary\", \"Transgender_Man\", \"Transgender_Woman\"],\n",
    "    \"sexual_orientation\": [\"Heterosexual\", \"Homosexual\", \"Bisexual\", \"Asexual\"],\n",
    "    \"national_origin\": [\"United_States\", \"Mexico\", \"Canada\", \"United_Kingdom\", \"China\", \"India\", \"Nigeria\", \"Iran\", \"Other\"],\n",
    "    \"age\": [\"Child\", \"Teen\", \"Young Adult\", \"Adult\", \"Senior\"],\n",
    "    \"disability\": [\"Physical Disability\", \"Cognitive Disability\", \"Mental Health Condition\", \"Visual Impairment\", \"Hearing Impairment\", \"None\"]\n",
    "} "
   ]
  },
  {
   "cell_type": "code",
   "execution_count": 6,
   "metadata": {},
   "outputs": [],
   "source": [
    "import json\n",
    "\n",
    "with open(\"json_data/stories_to_classes.json\") as f:\n",
    "    prompts = json.load(f)\n",
    "\n",
    "batch_requests = []\n",
    "\n",
    "for id, body in prompts.items():\n",
    "    batch_requests.append({\n",
    "        \"custom_id\": id,\n",
    "        \"method\": \"POST\",\n",
    "        \"url\": \"/v1/chat/completions\",\n",
    "        \"body\": {\n",
    "            \"model\": \"gpt-4o-mini-2024-07-18\",\n",
    "            \"messages\": [\n",
    "                {\n",
    "                    \"role\": \"system\", \n",
    "                    \"content\": f\"You are to take stories and return just a json map labeling the protected classes in the story. Do not add any text besides the map. The map of options is here: {json.dumps(protected_classes_map)}. Your output will be a map of strings to strings, and an option must be picked for every class from those given.\"},\n",
    "                {\n",
    "                    \"role\": \"user\",\n",
    "                    \"content\": body[\"story\"]\n",
    "                }\n",
    "            ],\n",
    "            \"max_tokens\": 300,\n",
    "            \"temperature\": 0.7\n",
    "        }\n",
    "    })\n",
    "\n",
    "with open(\"json_data/batch_requests_stories_to_class.jsonl\", \"w\") as f:\n",
    "    for obj in batch_requests:\n",
    "        f.write(json.dumps(obj) + '\\n')"
   ]
  },
  {
   "cell_type": "code",
   "execution_count": 7,
   "metadata": {},
   "outputs": [
    {
     "name": "stdout",
     "output_type": "stream",
     "text": [
      "Batch(id='batch_67631214f4d08190a5178c2188f6dafe', completion_window='24h', created_at=1734545941, endpoint='/v1/chat/completions', input_file_id='file-XJQWG7b9f5xmgGJ6uJAWTh', object='batch', status='validating', cancelled_at=None, cancelling_at=None, completed_at=None, error_file_id=None, errors=None, expired_at=None, expires_at=1734632341, failed_at=None, finalizing_at=None, in_progress_at=None, metadata={'description': 'labeling from stories batch'}, output_file_id=None, request_counts=BatchRequestCounts(completed=0, failed=0, total=0))\n"
     ]
    }
   ],
   "source": [
    "from openai import OpenAI\n",
    "import os\n",
    "from dotenv import load_dotenv\n",
    "\n",
    "load_dotenv()\n",
    "OpenAI.api_key = os.getenv(\"OPENAI_API_KEY\")\n",
    "\n",
    "client = OpenAI()\n",
    "\n",
    "batch_input_file = client.files.create(\n",
    "    file=open(\"json_data/batch_requests_stories_to_class.jsonl\", \"rb\"),\n",
    "    purpose=\"batch\"\n",
    ")\n",
    "\n",
    "batch_input_file_id = batch_input_file.id\n",
    "\n",
    "job_info = client.batches.create(\n",
    "  input_file_id=batch_input_file_id,\n",
    "  endpoint=\"/v1/chat/completions\",\n",
    "  completion_window=\"24h\",\n",
    "  metadata={\n",
    "    \"description\": \"labeling from stories batch\"\n",
    "  }\n",
    ")\n",
    "\n",
    "print(job_info)"
   ]
  },
  {
   "cell_type": "code",
   "execution_count": 25,
   "metadata": {},
   "outputs": [
    {
     "name": "stdout",
     "output_type": "stream",
     "text": [
      "Job Status: completed\n"
     ]
    }
   ],
   "source": [
    "# copy from above\n",
    "BATCH_ID = \"batch_67631214f4d08190a5178c2188f6dafe\"\n",
    "\n",
    "from openai import OpenAI\n",
    "client = OpenAI()\n",
    "\n",
    "print(\"Job Status:\", client.batches.retrieve(BATCH_ID).status)"
   ]
  },
  {
   "cell_type": "code",
   "execution_count": 27,
   "metadata": {},
   "outputs": [],
   "source": [
    "import json\n",
    "import re\n",
    "\n",
    "def fix_string_err(input_str):\n",
    "    clean_str = re.sub(r\"```json\\n|\\n```\", \"\", input_str).strip()\n",
    "    json_obj = json.loads(clean_str)\n",
    "    return json_obj\n"
   ]
  },
  {
   "cell_type": "code",
   "execution_count": 29,
   "metadata": {},
   "outputs": [
    {
     "name": "stdout",
     "output_type": "stream",
     "text": [
      "JSON Errors: 0\n"
     ]
    }
   ],
   "source": [
    "from openai import OpenAI\n",
    "import json\n",
    "\n",
    "client = OpenAI()\n",
    "\n",
    "prompts = {}\n",
    "with open(\"json_data/stories_to_classes.json\", \"r\") as f:\n",
    "    prompts = json.load(f)\n",
    "\n",
    "file_response = client.files.content(client.batches.retrieve(BATCH_ID).output_file_id)\n",
    "\n",
    "errors = 0\n",
    "for line in file_response.text.split('\\n'):\n",
    "    if line:\n",
    "        response = json.loads(line)\n",
    "        req_id = response[\"custom_id\"]\n",
    "        try:\n",
    "            prompts[req_id][\"classification\"] = json.loads(response[\"response\"][\"body\"][\"choices\"][0][\"message\"][\"content\"])\n",
    "        except:\n",
    "            \n",
    "            try:\n",
    "                prompts[req_id][\"classification\"] = fix_string_err(response[\"response\"][\"body\"][\"choices\"][0][\"message\"][\"content\"])\n",
    "            except:\n",
    "                prompts[req_id][\"classification\"] = response[\"response\"][\"body\"][\"choices\"][0][\"message\"][\"content\"]\n",
    "                errors += 1\n",
    "\n",
    "print(\"JSON Errors:\", errors)\n",
    "\n",
    "with open(\"json_data/final_stories_to_classes.json\", \"w\") as f:\n",
    "    json.dump(prompts, f, indent=4)"
   ]
  }
 ],
 "metadata": {
  "kernelspec": {
   "display_name": "Python 3",
   "language": "python",
   "name": "python3"
  },
  "language_info": {
   "codemirror_mode": {
    "name": "ipython",
    "version": 3
   },
   "file_extension": ".py",
   "mimetype": "text/x-python",
   "name": "python",
   "nbconvert_exporter": "python",
   "pygments_lexer": "ipython3",
   "version": "3.10.11"
  }
 },
 "nbformat": 4,
 "nbformat_minor": 2
}
